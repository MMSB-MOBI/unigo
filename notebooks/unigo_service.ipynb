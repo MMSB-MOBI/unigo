{
 "cells": [
  {
   "cell_type": "markdown",
   "id": "6d77657b",
   "metadata": {},
   "source": [
    "## Create unigo tree\n",
    "\n",
    "To create an unigo tree, you need a collection of protein object, respecting the ProteinObject pydantic model below"
   ]
  },
  {
   "cell_type": "code",
   "execution_count": 1,
   "id": "fdcae874",
   "metadata": {},
   "outputs": [],
   "source": [
    "import sys\n",
    "sys.path.append('../')"
   ]
  },
  {
   "cell_type": "code",
   "execution_count": 2,
   "id": "7d93d888",
   "metadata": {},
   "outputs": [],
   "source": [
    "from pydantic import BaseModel\n",
    "from typing import List\n",
    "\n",
    "class GODatum(BaseModel):\n",
    "    id: str\n",
    "    evidence: str\n",
    "    term: str\n",
    "\n",
    "class ProteinObject(BaseModel):\n",
    "    id: str\n",
    "    go: List[GODatum]"
   ]
  },
  {
   "cell_type": "markdown",
   "id": "8dc2cf4a",
   "metadata": {},
   "source": [
    "### Load example\n",
    "Load the example in data/proteins.json and create an iterator on objects "
   ]
  },
  {
   "cell_type": "code",
   "execution_count": 3,
   "id": "a4c7cba4",
   "metadata": {},
   "outputs": [],
   "source": [
    "import json\n",
    "proteins = json.load(open('data/proteins.json'))"
   ]
  },
  {
   "cell_type": "code",
   "execution_count": 4,
   "id": "8b57a78f",
   "metadata": {},
   "outputs": [],
   "source": [
    "def get_iterator(json_models):\n",
    "    for p in json_models:\n",
    "        yield ProteinObject.parse_obj(p)"
   ]
  },
  {
   "cell_type": "code",
   "execution_count": 5,
   "id": "40b9e1cb",
   "metadata": {},
   "outputs": [],
   "source": [
    "protein_iterator = get_iterator(proteins)"
   ]
  },
  {
   "cell_type": "markdown",
   "id": "f23c8fb9",
   "metadata": {},
   "source": [
    "### Create the tree"
   ]
  },
  {
   "cell_type": "markdown",
   "id": "6963c6c6",
   "metadata": {},
   "source": [
    "You can create a tree for each go namespace : biological process, molecular function and cellular component. You will need a owl ontology file to set ontology first. "
   ]
  },
  {
   "cell_type": "code",
   "execution_count": 6,
   "id": "83739f2c",
   "metadata": {
    "scrolled": true
   },
   "outputs": [
    {
     "name": "stderr",
     "output_type": "stream",
     "text": [
      "* Owlready2 * Warning: optimized Cython parser module 'owlready2_optimized' is not available, defaulting to slower Python implementation\n"
     ]
    },
    {
     "name": "stdout",
     "output_type": "stream",
     "text": [
      "DVL PYPROTEINS_EXT PKG 2022-09-06 11:05:33.208708\n"
     ]
    }
   ],
   "source": [
    "import unigo"
   ]
  },
  {
   "cell_type": "code",
   "execution_count": 7,
   "id": "260378bd",
   "metadata": {},
   "outputs": [],
   "source": [
    "ontology = \"data/go_2207.owl\" "
   ]
  },
  {
   "cell_type": "code",
   "execution_count": 8,
   "id": "5eb9d2fd",
   "metadata": {},
   "outputs": [
    {
     "name": "stdout",
     "output_type": "stream",
     "text": [
      "Blueprint xpGoTree cellular component extracted\n",
      "Applying true path collapsing\n",
      "178 GO terms, 338 children_links, 316 leaves, 49 proteins (0 discarded)\n",
      "xpGoTree cellular component filtered for supplied uniprot entries\n"
     ]
    }
   ],
   "source": [
    "unigo.setOntology(ontology)\n",
    "tree = unigo.tree.createGoTree('cellular component', protein_iterator)"
   ]
  },
  {
   "cell_type": "markdown",
   "id": "f08006bf",
   "metadata": {},
   "source": [
    "### Exploring tree "
   ]
  },
  {
   "cell_type": "markdown",
   "id": "a95f247f",
   "metadata": {},
   "source": [
    "You can get a node by GO term id or name "
   ]
  },
  {
   "cell_type": "code",
   "execution_count": 9,
   "id": "f81b9513",
   "metadata": {},
   "outputs": [
    {
     "data": {
      "text/plain": [
       "{'ID': 'GO:0005634', 'name': 'nucleus', 'eTag': ['Q08881', 'Q8VDQ8', 'Q8NF99', 'P55263', 'P63015', 'P49591', 'O15078', 'Q8BGU5', 'Q6XPS3', 'Q12906', 'P63015', 'P22888'], 'leafCount': 0, 'features': {}, 'oNode': obo.GO_0005634, 'isDAGelem': True, 'is_a': [], 'children': ['nuclear lumen']}"
      ]
     },
     "execution_count": 9,
     "metadata": {},
     "output_type": "execute_result"
    }
   ],
   "source": [
    "tree.getByID('GO:0005634')"
   ]
  },
  {
   "cell_type": "code",
   "execution_count": 10,
   "id": "780b3ece",
   "metadata": {},
   "outputs": [
    {
     "data": {
      "text/plain": [
       "{'ID': 'GO:0005634', 'name': 'nucleus', 'eTag': ['Q08881', 'Q8VDQ8', 'Q8NF99', 'P55263', 'P63015', 'P49591', 'O15078', 'Q8BGU5', 'Q6XPS3', 'Q12906', 'P63015', 'P22888'], 'leafCount': 0, 'features': {}, 'oNode': obo.GO_0005634, 'isDAGelem': True, 'is_a': [], 'children': ['nuclear lumen']}"
      ]
     },
     "execution_count": 10,
     "metadata": {},
     "output_type": "execute_result"
    }
   ],
   "source": [
    "tree.getByName('nucleus')"
   ]
  },
  {
   "cell_type": "markdown",
   "id": "db6f1477",
   "metadata": {},
   "source": [
    "You can get all tree proteins"
   ]
  },
  {
   "cell_type": "code",
   "execution_count": 11,
   "id": "25af389b",
   "metadata": {},
   "outputs": [
    {
     "data": {
      "text/plain": [
       "['P58107',\n",
       " 'Q15109',\n",
       " 'O55225',\n",
       " 'Q8NF99',\n",
       " 'Q7Z7G2',\n",
       " 'Q8K426',\n",
       " 'Q8CBB9',\n",
       " 'P49591',\n",
       " 'P29387',\n",
       " 'P35174',\n",
       " 'P18089',\n",
       " 'Q9P2K2',\n",
       " 'P20273',\n",
       " 'P63015',\n",
       " 'Q6XPS3',\n",
       " 'A6NNS2',\n",
       " 'Q6UWK7',\n",
       " 'Q925Q5',\n",
       " 'Q9Y2A7',\n",
       " 'P55263',\n",
       " 'C9JE06',\n",
       " 'Q9H2M9',\n",
       " 'P10321',\n",
       " 'Q9HCS2',\n",
       " 'O15031',\n",
       " 'Q64281',\n",
       " 'Q61609',\n",
       " 'Q3UH66',\n",
       " 'A0A3Q4EGR4',\n",
       " 'O15078',\n",
       " 'Q8BXA7',\n",
       " 'Q30KP6',\n",
       " 'P58659',\n",
       " 'Q8NBJ4',\n",
       " 'Q8VDQ8',\n",
       " 'Q8WZA2',\n",
       " 'P14142',\n",
       " 'P41233',\n",
       " 'Q12906',\n",
       " 'P04196',\n",
       " 'Q6UX15',\n",
       " 'O35874',\n",
       " 'Q08881',\n",
       " 'Q8BGU5',\n",
       " 'P24666',\n",
       " 'Q6J9G0',\n",
       " 'Q96LA5',\n",
       " 'Q9H400',\n",
       " 'P22888']"
      ]
     },
     "execution_count": 11,
     "metadata": {},
     "output_type": "execute_result"
    }
   ],
   "source": [
    "tree.getMembers()"
   ]
  },
  {
   "cell_type": "markdown",
   "id": "0ab661b8",
   "metadata": {},
   "source": [
    "You can get all child proteins of a node"
   ]
  },
  {
   "cell_type": "code",
   "execution_count": 29,
   "id": "76d90b47",
   "metadata": {},
   "outputs": [],
   "source": [
    "a = tree.getMembersByID('GO:0005634')"
   ]
  },
  {
   "cell_type": "markdown",
   "id": "36eff8af",
   "metadata": {},
   "source": [
    "You can get all child proteins of a node with more detailed informations about why it has been classified as child. \n",
    "Returned variable is a dictionnary with proteins as keys, and list of go terms that are child of your parent term and so that are be used to classify the protein as child of parent node"
   ]
  },
  {
   "cell_type": "code",
   "execution_count": 28,
   "id": "d146e544",
   "metadata": {},
   "outputs": [
    {
     "data": {
      "text/plain": [
       "{'Q08881': [('GO:0005634', 'nucleus')],\n",
       " 'Q8VDQ8': [('GO:0005634', 'nucleus'), ('GO:0005730', 'nucleolus')],\n",
       " 'Q8NF99': [('GO:0005634', 'nucleus'), ('GO:0005730', 'nucleolus')],\n",
       " 'P55263': [('GO:0005634', 'nucleus'), ('GO:0005654', 'nucleoplasm')],\n",
       " 'P63015': [('GO:0005634', 'nucleus'),\n",
       "  ('GO:0005634', 'nucleus'),\n",
       "  ('GO:0005654', 'nucleoplasm'),\n",
       "  ('GO:0005654', 'nucleoplasm')],\n",
       " 'P49591': [('GO:0005634', 'nucleus')],\n",
       " 'O15078': [('GO:0005634', 'nucleus')],\n",
       " 'Q8BGU5': [('GO:0005634', 'nucleus')],\n",
       " 'Q6XPS3': [('GO:0005634', 'nucleus')],\n",
       " 'Q12906': [('GO:0005634', 'nucleus'),\n",
       "  ('GO:0005730', 'nucleolus'),\n",
       "  ('GO:0005654', 'nucleoplasm')],\n",
       " 'P22888': [('GO:0005634', 'nucleus')],\n",
       " 'Q8CBB9': [('GO:0001650', 'fibrillar center')],\n",
       " 'Q15109': [('GO:0001650', 'fibrillar center')],\n",
       " 'P35174': [('GO:0005654', 'nucleoplasm')],\n",
       " 'Q8BXA7': [('GO:0005654', 'nucleoplasm')],\n",
       " 'C9JE06': [('GO:0005654', 'nucleoplasm')],\n",
       " 'P58107': [('GO:0097356', 'perinucleolar compartment')]}"
      ]
     },
     "execution_count": 28,
     "metadata": {},
     "output_type": "execute_result"
    }
   ],
   "source": [
    "tree.getDetailedMembersFromParentID('GO:0005634')"
   ]
  },
  {
   "cell_type": "code",
   "execution_count": null,
   "id": "e563cd9d",
   "metadata": {},
   "outputs": [],
   "source": []
  }
 ],
 "metadata": {
  "kernelspec": {
   "display_name": "Python 3 (ipykernel)",
   "language": "python",
   "name": "python3"
  },
  "language_info": {
   "codemirror_mode": {
    "name": "ipython",
    "version": 3
   },
   "file_extension": ".py",
   "mimetype": "text/x-python",
   "name": "python",
   "nbconvert_exporter": "python",
   "pygments_lexer": "ipython3",
   "version": "3.8.13"
  }
 },
 "nbformat": 4,
 "nbformat_minor": 5
}
