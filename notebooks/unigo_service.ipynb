{
 "cells": [
  {
   "cell_type": "markdown",
   "id": "6d77657b",
   "metadata": {},
   "source": [
    "## Create unigo tree\n",
    "\n",
    "To create an unigo tree, you need a collection of protein object, respecting the ProteinObject pydantic model below"
   ]
  },
  {
   "cell_type": "code",
   "execution_count": 1,
   "id": "fdcae874",
   "metadata": {},
   "outputs": [],
   "source": [
    "import sys\n",
    "sys.path.append('../')"
   ]
  },
  {
   "cell_type": "code",
   "execution_count": 2,
   "id": "7d93d888",
   "metadata": {},
   "outputs": [],
   "source": [
    "from pydantic import BaseModel\n",
    "from typing import List\n",
    "\n",
    "class GODatum(BaseModel):\n",
    "    id: str\n",
    "    evidence: str\n",
    "    term: str\n",
    "\n",
    "class ProteinObject(BaseModel):\n",
    "    id: str\n",
    "    go: List[GODatum]"
   ]
  },
  {
   "cell_type": "markdown",
   "id": "8dc2cf4a",
   "metadata": {},
   "source": [
    "### Load example\n",
    "Load the example in data/proteins.json and create an iterator on objects "
   ]
  },
  {
   "cell_type": "code",
   "execution_count": 3,
   "id": "a4c7cba4",
   "metadata": {},
   "outputs": [],
   "source": [
    "import json\n",
    "proteins = json.load(open('data/proteins.json'))"
   ]
  },
  {
   "cell_type": "code",
   "execution_count": 4,
   "id": "8b57a78f",
   "metadata": {},
   "outputs": [],
   "source": [
    "def get_iterator(json_models):\n",
    "    for p in json_models:\n",
    "        yield ProteinObject.parse_obj(p)"
   ]
  },
  {
   "cell_type": "code",
   "execution_count": 5,
   "id": "40b9e1cb",
   "metadata": {},
   "outputs": [],
   "source": [
    "protein_iterator = get_iterator(proteins)"
   ]
  },
  {
   "cell_type": "markdown",
   "id": "f23c8fb9",
   "metadata": {},
   "source": [
    "### Create the tree"
   ]
  },
  {
   "cell_type": "code",
   "execution_count": 6,
   "id": "83739f2c",
   "metadata": {},
   "outputs": [
    {
     "name": "stderr",
     "output_type": "stream",
     "text": [
      "* Owlready2 * Warning: optimized Cython parser module 'owlready2_optimized' is not available, defaulting to slower Python implementation\n"
     ]
    },
    {
     "name": "stdout",
     "output_type": "stream",
     "text": [
      "DVL PYPROTEINS_EXT PKG 2022-09-02 14:31:41.535912\n"
     ]
    }
   ],
   "source": [
    "import unigo"
   ]
  },
  {
   "cell_type": "code",
   "execution_count": 7,
   "id": "5eb9d2fd",
   "metadata": {},
   "outputs": [
    {
     "name": "stdout",
     "output_type": "stream",
     "text": [
      "Blueprint xpGoTree biological process extracted\n",
      "Please set GO_ONTOLOGY\n",
      "xpGoTree biological process filtered for supplied uniprot entries\n"
     ]
    }
   ],
   "source": [
    "go_tree = unigo.tree.createGoTree('biological process', protein_iterator)"
   ]
  },
  {
   "cell_type": "code",
   "execution_count": null,
   "id": "00a2121a",
   "metadata": {},
   "outputs": [],
   "source": []
  }
 ],
 "metadata": {
  "kernelspec": {
   "display_name": "Python 3 (ipykernel)",
   "language": "python",
   "name": "python3"
  },
  "language_info": {
   "codemirror_mode": {
    "name": "ipython",
    "version": 3
   },
   "file_extension": ".py",
   "mimetype": "text/x-python",
   "name": "python",
   "nbconvert_exporter": "python",
   "pygments_lexer": "ipython3",
   "version": "3.8.13"
  }
 },
 "nbformat": 4,
 "nbformat_minor": 5
}
