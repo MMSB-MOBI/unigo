{
 "cells": [
  {
   "cell_type": "markdown",
   "metadata": {},
   "source": [
    "Create the proteome xml file from Christian TMT data.   \n",
    "1) Download E.coli K12 proteome (https://www.uniprot.org/proteomes/UP000000625)    \n",
    "\n",
    "2) Check if all TMT proteins are inside it  \n",
    "\n",
    "3) If not, add them"
   ]
  },
  {
   "cell_type": "code",
   "execution_count": 1,
   "metadata": {},
   "outputs": [
    {
     "name": "stdout",
     "output_type": "stream",
     "text": [
      "LXML VERSION\n"
     ]
    }
   ],
   "source": [
    "import pyproteinsExt.uniprot as up\n",
    "%load_ext autoreload\n",
    "%autoreload 2"
   ]
  },
  {
   "cell_type": "code",
   "execution_count": 18,
   "metadata": {},
   "outputs": [],
   "source": [
    "tmt_data = \"/Users/guillaumelaunay/work/projects/service/quantitativeProteomics/data/tsv/TMT-donées brutes_Results_20-0609-0618_VegetativeExp_V2_proteins.tsv\"\n",
    "k12_proteome = \"/home/chilpert/data/christian_TMT_0121/uniprot-proteome UP000000625.xml.gz\"\n",
    "new_proteome = \"/Users/guillaumelaunay/work/projects/service/quantitativeProteomics/data/proteome/uniprot-proteome_UP000000625_+TMT_210126.xml\""
   ]
  },
  {
   "cell_type": "markdown",
   "metadata": {},
   "source": [
    "### Load proteome"
   ]
  },
  {
   "cell_type": "code",
   "execution_count": 12,
   "metadata": {
    "scrolled": true
   },
   "outputs": [
    {
     "name": "stdout",
     "output_type": "stream",
     "text": [
      "==> <class 'xml.etree.ElementTree.Element'> <class 'xml.etree.ElementTree.ElementTree'> <==\n",
      "Acknowledged 0 entries (/home/chilpert)\n",
      "Acknowledged 4391 entries /home/chilpert/data/christian_TMT_0121/uniprot-proteome UP000000625.xml.gz\n"
     ]
    }
   ],
   "source": [
    "uCollXML = up.EntrySet(collectionXML = k12_proteome)"
   ]
  },
  {
   "cell_type": "markdown",
   "metadata": {},
   "source": [
    "### Load TMT data and add new proteins to proteome"
   ]
  },
  {
   "cell_type": "code",
   "execution_count": 13,
   "metadata": {},
   "outputs": [
    {
     "name": "stdout",
     "output_type": "stream",
     "text": [
      "Looking in XML files/dir collection for Q9S4W2\n",
      "got to fetch Q9S4W2\n",
      "Add Q9S4W2 in xml proteome\n",
      "Looking in XML files/dir collection for P0DP90\n",
      "got to fetch P0DP90\n",
      "Add P0DP90 in xml proteome\n"
     ]
    }
   ],
   "source": [
    "absent_proteins = []\n",
    "with open(tmt_data) as f:\n",
    "    header = f.readline()\n",
    "    for prot_line in f:\n",
    "        accession = prot_line.split(\"\\t\")[2]\n",
    "        if not uCollXML.has(accession):\n",
    "            absent_proteins.append(accession)\n",
    "            new_entry = uCollXML.get(accession, force_fetch = True)\n",
    "            uCollXML.add_to_proteome(new_entry)"
   ]
  },
  {
   "cell_type": "code",
   "execution_count": 16,
   "metadata": {},
   "outputs": [
    {
     "name": "stdout",
     "output_type": "stream",
     "text": [
      "2 proteins were not in original proteome :\n",
      "Q9S4W2\n",
      "P0DP90\n"
     ]
    }
   ],
   "source": [
    "print(f\"{len(absent_proteins)} proteins were not in original proteome :\")\n",
    "print(\"\\n\".join(absent_proteins))"
   ]
  },
  {
   "cell_type": "markdown",
   "metadata": {},
   "source": [
    "### Write new proteome"
   ]
  },
  {
   "cell_type": "code",
   "execution_count": 19,
   "metadata": {},
   "outputs": [
    {
     "name": "stdout",
     "output_type": "stream",
     "text": [
      "Serialize proteome with 4393 entries\n"
     ]
    }
   ],
   "source": [
    "uCollXML.serialize_proteome(new_proteome)"
   ]
  }
 ],
 "metadata": {
  "kernelspec": {
   "display_name": "Python 3",
   "language": "python",
   "name": "python3"
  },
  "language_info": {
   "codemirror_mode": {
    "name": "ipython",
    "version": 3
   },
   "file_extension": ".py",
   "mimetype": "text/x-python",
   "name": "python",
   "nbconvert_exporter": "python",
   "pygments_lexer": "ipython3",
   "version": "3.8.2"
  }
 },
 "nbformat": 4,
 "nbformat_minor": 4
}
