{
 "cells": [
  {
   "cell_type": "markdown",
   "metadata": {},
   "source": [
    "Create the proteome xml file from Christian TMT data.   \n",
    "1) Download E.coli K12 proteome (https://www.uniprot.org/proteomes/UP000000625)    \n",
    "\n",
    "2) Check if all TMT proteins are inside it  \n",
    "\n",
    "3) If not, add them"
   ]
  },
  {
   "cell_type": "code",
   "execution_count": 1,
   "metadata": {},
   "outputs": [],
   "source": [
    "import pyproteinsExt.uniprot as up\n",
    "%load_ext autoreload\n",
    "%autoreload 2"
   ]
  },
  {
   "cell_type": "code",
   "execution_count": 16,
   "metadata": {},
   "outputs": [],
   "source": [
    "tmt_data = \"../../data/tsv/TMT-donées brutes_Results_20-0609-0618_VegetativeExp_V2_proteins.tsv\"\n",
    "k12_proteome = \"../../data/proteomes/uniprot-proteome_UP000000625.xml\"\n",
    "new_proteome = \"../../data/proteomes/uniprot-proteome_UP000000625_+TMT_210126.xml\""
   ]
  },
  {
   "cell_type": "markdown",
   "metadata": {},
   "source": [
    "### Load proteome"
   ]
  },
  {
   "cell_type": "code",
   "execution_count": 17,
   "metadata": {
    "scrolled": true
   },
   "outputs": [
    {
     "name": "stdout",
     "output_type": "stream",
     "text": [
      "==> <class 'xml.etree.ElementTree.Element'> <class 'xml.etree.ElementTree.ElementTree'> <==\n",
      "Acknowledged 0 entries (/Users/guillaumelaunay)\n",
      "Acknowledged 4391 entries ../../data/proteomes/uniprot-proteome_UP000000625.xml\n"
     ]
    }
   ],
   "source": [
    "uCollXML = up.EntrySet(collectionXML = k12_proteome)"
   ]
  },
  {
   "cell_type": "markdown",
   "metadata": {},
   "source": [
    "### Load TMT data and add new proteins to proteome"
   ]
  },
  {
   "cell_type": "code",
   "execution_count": 13,
   "metadata": {},
   "outputs": [
    {
     "name": "stdout",
     "output_type": "stream",
     "text": [
      "Looking in XML files/dir collection for Q9S4W2\n",
      "got to fetch Q9S4W2\n",
      "Add Q9S4W2 in xml proteome\n",
      "Looking in XML files/dir collection for P0DP90\n",
      "got to fetch P0DP90\n",
      "Add P0DP90 in xml proteome\n"
     ]
    }
   ],
   "source": [
    "absent_proteins = []\n",
    "with open(tmt_data) as f:\n",
    "    header = f.readline()\n",
    "    for prot_line in f:\n",
    "        accession = prot_line.split(\"\\t\")[2]\n",
    "        if not uCollXML.has(accession):\n",
    "            absent_proteins.append(accession)\n",
    "            new_entry = uCollXML.get(accession, force_fetch = True)\n",
    "            uCollXML.add_to_proteome(new_entry)"
   ]
  },
  {
   "cell_type": "code",
   "execution_count": 16,
   "metadata": {},
   "outputs": [
    {
     "name": "stdout",
     "output_type": "stream",
     "text": [
      "2 proteins were not in original proteome :\n",
      "Q9S4W2\n",
      "P0DP90\n"
     ]
    }
   ],
   "source": [
    "print(f\"{len(absent_proteins)} proteins were not in original proteome :\")\n",
    "print(\"\\n\".join(absent_proteins))"
   ]
  },
  {
   "cell_type": "markdown",
   "metadata": {},
   "source": [
    "### Write new proteome"
   ]
  },
  {
   "cell_type": "code",
   "execution_count": 19,
   "metadata": {},
   "outputs": [
    {
     "name": "stdout",
     "output_type": "stream",
     "text": [
      "Serialize proteome with 4393 entries\n"
     ]
    }
   ],
   "source": [
    "uCollXML.serialize_proteome(new_proteome)"
   ]
  },
  {
   "cell_type": "markdown",
   "metadata": {},
   "source": [
    "#### TESTING PWAS API\n",
    "\n",
    "* PARSING TSV\n",
    "* Requests PYTHON API\n",
    "* Requests NESTJS API"
   ]
  },
  {
   "cell_type": "code",
   "execution_count": 31,
   "metadata": {},
   "outputs": [
    {
     "name": "stdout",
     "output_type": "stream",
     "text": [
      "According to field \"Abundance Ratio: (pTrc-YfjB) / (pTrc)\", current number of significative proteins 53\n"
     ]
    }
   ],
   "source": [
    "import pandas\n",
    "import numpy as np\n",
    "\n",
    "valueField='Abundance Ratio: (pTrc-YfjB) / (pTrc)'\n",
    "\n",
    "df=pandas.read_csv(tmt_data, sep=\"\\t\")\n",
    "df[valueField] = df[valueField].str.replace(',','.')\n",
    "df = df.astype({valueField: float} )\n",
    "\n",
    "DELTA_df = df.loc[(df[valueField] > 1.5)]\n",
    "\n",
    "print(f\"According to field \\\"{valueField}\\\", current number of significative proteins {len (DELTA_df['Accession'].tolist())}\")"
   ]
  },
  {
   "cell_type": "code",
   "execution_count": 32,
   "metadata": {},
   "outputs": [],
   "source": [
    "PYTHON_API_ENDPOINT = \"http://localhost:2222/compute\"\n",
    "NESTJS_API_ENDPOINT = \"http://localhost:3000/api/pwas/ora\""
   ]
  },
  {
   "cell_type": "code",
   "execution_count": 35,
   "metadata": {},
   "outputs": [],
   "source": [
    "import requests, json\n",
    "\n",
    "data = {\n",
    "    \"all_accessions\"           : df['Accession'].tolist(),\n",
    "    \"significative_accessions\" : DELTA_df['Accession'].tolist(),\n",
    "    \"taxid\"                    : \"83333\", \n",
    "    \"method\"                   : \"fisher\"\n",
    "}\n",
    "\n",
    "ans = requests.post(PYTHON_API_ENDPOINT, json = data)\n"
   ]
  },
  {
   "cell_type": "code",
   "execution_count": 36,
   "metadata": {},
   "outputs": [
    {
     "data": {
      "text/plain": [
       "<Response [201]>"
      ]
     },
     "execution_count": 36,
     "metadata": {},
     "output_type": "execute_result"
    }
   ],
   "source": [
    "import requests, json\n",
    "\n",
    "data = {\n",
    "    \"proteinsExp\"           : df['Accession'].tolist(),\n",
    "    \"proteinsDelta\" : DELTA_df['Accession'].tolist(),\n",
    "    \"taxid\"                    : 83333, \n",
    "    \"method\"                   : \"fisher\"\n",
    "}\n",
    "\n",
    "ans = requests.post(NESTJS_API_ENDPOINT, json = data)\n",
    "#requests.get(\"http://localhost:3000/api/pwas\")\n",
    "ans"
   ]
  },
  {
   "cell_type": "code",
   "execution_count": 25,
   "metadata": {},
   "outputs": [
    {
     "data": {
      "text/plain": [
       "{'children': [{'best': 0.41097679695408007,\n",
       "   'children': [{'bkgFreq': 0.0027013752455795677,\n",
       "     'maxMemberCount': 22,\n",
       "     'name': 'leucine biosynthetic process',\n",
       "     'pvalue': 0.41097679695408007,\n",
       "     'table': [[5, 1551], [28, 10665]],\n",
       "     'uniprotID': ['P0A6A6', 'P0AB80', 'P30125', 'P09151', 'P30126']}],\n",
       "   'name': 'leucine biosynthetic process_group'},\n",
       "  {'best': 0.41917231526072896,\n",
       "   'children': [{'bkgFreq': 0.00036836935166994106,\n",
       "     'maxMemberCount': 3,\n",
       "     'name': 'response to lithium ion',\n",
       "     'pvalue': 0.41917231526072896,\n",
       "     'table': [[1, 1555], [3, 10694]],\n",
       "     'uniprotID': ['P0AFA7']},\n",
       "    {'bkgFreq': 0.00036836935166994106,\n",
       "     'maxMemberCount': 3,\n",
       "     'name': 'intracellular pH reduction',\n",
       "     'pvalue': 0.41917231526072896,\n",
       "     'table': [[1, 1555], [3, 10694]],\n",
       "     'uniprotID': ['P0AFA7']}],\n",
       "   'name': 'response to lithium ion_group'}],\n",
       " 'name': 'root'}"
      ]
     },
     "execution_count": 25,
     "metadata": {},
     "output_type": "execute_result"
    }
   ],
   "source": [
    "ans.json()"
   ]
  }
 ],
 "metadata": {
  "kernelspec": {
   "display_name": "pyqy_deploy_p39",
   "language": "python",
   "name": "pyqy_deploy_p39"
  },
  "language_info": {
   "codemirror_mode": {
    "name": "ipython",
    "version": 3
   },
   "file_extension": ".py",
   "mimetype": "text/x-python",
   "name": "python",
   "nbconvert_exporter": "python",
   "pygments_lexer": "ipython3",
   "version": "3.9.2"
  }
 },
 "nbformat": 4,
 "nbformat_minor": 4
}
