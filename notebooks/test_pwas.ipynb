{
 "cells": [
  {
   "cell_type": "code",
   "execution_count": 15,
   "id": "received-spell",
   "metadata": {},
   "outputs": [],
   "source": [
    "tmt_data = \"/Users/chilpert/Dev/unigo/data/TMT-donées brutes_Results_20-0609-0618_VegetativeExp_V2_proteins.tsv\""
   ]
  },
  {
   "cell_type": "markdown",
   "id": "civic-arlington",
   "metadata": {},
   "source": [
    "### Select 50 randoms proteins"
   ]
  },
  {
   "cell_type": "code",
   "execution_count": 16,
   "id": "floral-script",
   "metadata": {},
   "outputs": [],
   "source": [
    "prots = []\n",
    "with open(tmt_data) as f:\n",
    "    header = f.readline()\n",
    "    for l in f:\n",
    "        prots.append(l.split(\"\\t\")[2])"
   ]
  },
  {
   "cell_type": "code",
   "execution_count": 17,
   "id": "attempted-attack",
   "metadata": {},
   "outputs": [],
   "source": [
    "import random"
   ]
  },
  {
   "cell_type": "code",
   "execution_count": 18,
   "id": "plain-canada",
   "metadata": {},
   "outputs": [],
   "source": [
    "random_prots = random.sample(prots, 50)"
   ]
  },
  {
   "cell_type": "code",
   "execution_count": 19,
   "id": "modern-static",
   "metadata": {},
   "outputs": [],
   "source": [
    "with open(\"all_accessions.txt\", \"w\") as o:\n",
    "    o.write(\"\\n\".join(prots))\n",
    "with open(\"random50_accessions.txt\", \"w\") as o:\n",
    "    o.write(\"\\n\".join(random_prots))"
   ]
  },
  {
   "cell_type": "markdown",
   "id": "breeding-belarus",
   "metadata": {},
   "source": [
    "### Test api interrogation"
   ]
  },
  {
   "cell_type": "code",
   "execution_count": 20,
   "id": "hawaiian-builder",
   "metadata": {},
   "outputs": [],
   "source": [
    "import requests\n",
    "proxies = {\n",
    "  'http': '',\n",
    "  'https': '',\n",
    "}"
   ]
  },
  {
   "cell_type": "code",
   "execution_count": 21,
   "id": "decimal-constant",
   "metadata": {},
   "outputs": [],
   "source": [
    "r = requests.post(\"http://localhost:5001/compute\", proxies=proxies, json = {\"all_accessions\":prots, \\\n",
    "                                                                         \"taxid\": 83333,\\\n",
    "                                                                        \"significative_accessions\":random_prots,\\\n",
    "                                                                           \"method\": \"fisher\"})"
   ]
  },
  {
   "cell_type": "code",
   "execution_count": 23,
   "id": "killing-genetics",
   "metadata": {
    "scrolled": true
   },
   "outputs": [],
   "source": [
    "resp = r.json()"
   ]
  },
  {
   "cell_type": "code",
   "execution_count": null,
   "id": "consolidated-company",
   "metadata": {},
   "outputs": [],
   "source": []
  }
 ],
 "metadata": {
  "kernelspec": {
   "display_name": "Python 3",
   "language": "python",
   "name": "python3"
  },
  "language_info": {
   "codemirror_mode": {
    "name": "ipython",
    "version": 3
   },
   "file_extension": ".py",
   "mimetype": "text/x-python",
   "name": "python",
   "nbconvert_exporter": "python",
   "pygments_lexer": "ipython3",
   "version": "3.9.1"
  }
 },
 "nbformat": 4,
 "nbformat_minor": 5
}
